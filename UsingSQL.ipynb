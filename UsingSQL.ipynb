{
  "nbformat": 4,
  "nbformat_minor": 0,
  "metadata": {
    "colab": {
      "provenance": [],
      "collapsed_sections": [],
      "mount_file_id": "1Z3HTcWu1BX26bGa2LZGs99z8H5wVTZPk",
      "authorship_tag": "ABX9TyOgknCp5fGZj5ZoYqyb1eLO",
      "include_colab_link": true
    },
    "kernelspec": {
      "name": "python3",
      "display_name": "Python 3"
    },
    "language_info": {
      "name": "python"
    }
  },
  "cells": [
    {
      "cell_type": "markdown",
      "metadata": {
        "id": "view-in-github",
        "colab_type": "text"
      },
      "source": [
        "<a href=\"https://colab.research.google.com/github/wagnerjunior77/Coursera/blob/main/UsingSQL.ipynb\" target=\"_parent\"><img src=\"https://colab.research.google.com/assets/colab-badge.svg\" alt=\"Open In Colab\"/></a>"
      ]
    },
    {
      "cell_type": "markdown",
      "source": [
        "Course link: https://www.coursera.org/learn/python-databases"
      ],
      "metadata": {
        "id": "GrMdB2Rz0riv"
      }
    },
    {
      "cell_type": "code",
      "source": [
        "from google.colab import drive\n",
        "drive.mount('/content/drive')"
      ],
      "metadata": {
        "colab": {
          "base_uri": "https://localhost:8080/"
        },
        "id": "sV77bkpuZIfd",
        "outputId": "b4bbb3bb-6f45-47c2-8726-050999fb4ec4"
      },
      "execution_count": null,
      "outputs": [
        {
          "output_type": "stream",
          "name": "stdout",
          "text": [
            "Drive already mounted at /content/drive; to attempt to forcibly remount, call drive.mount(\"/content/drive\", force_remount=True).\n"
          ]
        }
      ]
    },
    {
      "cell_type": "markdown",
      "source": [
        "Python Oriented Object"
      ],
      "metadata": {
        "id": "BgmQicPh7Ics"
      }
    },
    {
      "cell_type": "code",
      "execution_count": null,
      "metadata": {
        "id": "rF2EsEXw7Ft1"
      },
      "outputs": [],
      "source": [
        "class Dog:\n",
        "\n",
        "  patas = 4\n",
        "  var_nome = ''\n",
        "\n",
        "  def __init__(self, nome):\n",
        "     var_nome = nome\n",
        "     print(f'{var_nome} Constructed')\n",
        "\n",
        "  def Carac (self, peso, raca, idade):\n",
        "    peso = peso\n",
        "    raca = raca\n",
        "    idade = idade\n",
        "    print(f\"Peso: {peso}, Raça: {raca}, Idade: {idade}\")\n",
        "\n",
        "s = Dog(\"Lester\")\n",
        "\n",
        "s.Carac(17, \"Hotvalley\", 10)"
      ]
    },
    {
      "cell_type": "markdown",
      "source": [
        "Getting all organization email domain present in a file and parse to database using SQL"
      ],
      "metadata": {
        "id": "J7U9D7GljfEG"
      }
    },
    {
      "cell_type": "code",
      "source": [
        "import sqlite3\n",
        "\n",
        "conn = sqlite3.connect('emaildb.sqlite')\n",
        "cur = conn.cursor()\n",
        "\n",
        "cur.execute('DROP TABLE IF EXISTS Counts')\n",
        "\n",
        "cur.execute('''\n",
        "CREATE TABLE Counts (org TEXT, count INTEGER)''')\n",
        "\n",
        "fname = \"/content/drive/MyDrive/Coursera/mbox.txt\"\n",
        "\n",
        "fh = open(fname)\n",
        "for line in fh:\n",
        "    if not line.startswith('From: '): continue\n",
        "    pieces = line.split()\n",
        "    email = pieces[1]\n",
        "    parts = email.split(\"@\")\n",
        "    org = parts[1]\n",
        "    cur.execute('SELECT count FROM Counts WHERE org = ? ', (org,))\n",
        "    row = cur.fetchone()\n",
        "    if row is None:\n",
        "        cur.execute('''INSERT INTO Counts (org, count)\n",
        "                VALUES (?, 1)''', (org,))\n",
        "    else:\n",
        "        cur.execute('UPDATE Counts SET count = count + 1 WHERE org = ?',\n",
        "                    (org,))\n",
        "    conn.commit()\n",
        "\n",
        "# https://www.sqlite.org/lang_select.html\n",
        "sqlstr = 'SELECT org, count FROM Counts ORDER BY count DESC LIMIT 10'\n",
        "\n",
        "for row in cur.execute(sqlstr):\n",
        "    print(str(row[0]), row[1])\n",
        "\n",
        "cur.close()"
      ],
      "metadata": {
        "id": "qt9sca6SYByN"
      },
      "execution_count": null,
      "outputs": []
    },
    {
      "cell_type": "markdown",
      "source": [
        "Getting tracks XML data from iTunes"
      ],
      "metadata": {
        "id": "aobvMQ8Evb0R"
      }
    },
    {
      "cell_type": "code",
      "source": [
        "import xml.etree.ElementTree as ET\n",
        "import sqlite3\n",
        "\n",
        "conn = sqlite3.connect('trackdb.sqlite')\n",
        "cur = conn.cursor()\n",
        "\n",
        "# Make some fresh tables using executescript()\n",
        "cur.executescript('''\n",
        "DROP TABLE IF EXISTS Artist;\n",
        "DROP TABLE IF EXISTS Album;\n",
        "DROP TABLE IF EXISTS Track;\n",
        "DROP TABLE IF EXISTS Genre;\n",
        "\n",
        "CREATE TABLE Artist (\n",
        "    id  INTEGER NOT NULL PRIMARY KEY AUTOINCREMENT UNIQUE,\n",
        "    name    TEXT UNIQUE\n",
        ");\n",
        "\n",
        "CREATE TABLE Genre (\n",
        "    id  INTEGER NOT NULL PRIMARY KEY AUTOINCREMENT UNIQUE,\n",
        "    name    TEXT UNIQUE\n",
        ");\n",
        "\n",
        "CREATE TABLE Album (\n",
        "    id  INTEGER NOT NULL PRIMARY KEY AUTOINCREMENT UNIQUE,\n",
        "    artist_id  INTEGER,\n",
        "    title   TEXT UNIQUE\n",
        ");\n",
        "\n",
        "CREATE TABLE Track (\n",
        "    id  INTEGER NOT NULL PRIMARY KEY \n",
        "        AUTOINCREMENT UNIQUE,\n",
        "    title TEXT  UNIQUE,\n",
        "    album_id  INTEGER,\n",
        "    genre_id  INTEGER,\n",
        "    len INTEGER, rating INTEGER, count INTEGER\n",
        ");\n",
        "''')\n",
        "\n",
        "\n",
        "fname = \"/content/drive/MyDrive/Coursera/Library.xml\"\n",
        "\n",
        "\n",
        "# <key>Track ID</key><integer>369</integer>\n",
        "# <key>Name</key><string>Another One Bites The Dust</string>\n",
        "# <key>Artist</key><string>Queen</string>\n",
        "def lookup(d, key):\n",
        "    found = False\n",
        "    for child in d:\n",
        "        if found : return child.text\n",
        "        if child.tag == 'key' and child.text == key :\n",
        "            found = True\n",
        "    return None\n",
        "\n",
        "stuff = ET.parse(fname)\n",
        "all = stuff.findall('dict/dict/dict')\n",
        "print('Dict count:', len(all))\n",
        "for entry in all:\n",
        "    if ( lookup(entry, 'Track ID') is None ) : continue\n",
        "\n",
        "    name = lookup(entry, 'Name')\n",
        "    artist = lookup(entry, 'Artist')\n",
        "    genre = lookup(entry, 'Genre')\n",
        "    album = lookup(entry, 'Album')\n",
        "    count = lookup(entry, 'Play Count')\n",
        "    rating = lookup(entry, 'Rating')\n",
        "    length = lookup(entry, 'Total Time')\n",
        "\n",
        "    if name is None or artist is None or album is None or genre is None : \n",
        "        continue\n",
        "\n",
        "    print(name, artist, album, genre, count, rating, length)\n",
        "\n",
        "    cur.execute('''INSERT OR IGNORE INTO Artist (name) \n",
        "        VALUES ( ? )''', ( artist, ) )\n",
        "    cur.execute('SELECT id FROM Artist WHERE name = ? ', (artist, ))\n",
        "    artist_id = cur.fetchone()[0]\n",
        "\n",
        "    cur.execute('''INSERT OR IGNORE INTO Genre (name) \n",
        "        VALUES ( ? )''', ( genre, ) )\n",
        "    cur.execute('SELECT id FROM Genre WHERE name = ? ', (genre, ))\n",
        "    genre_id = cur.fetchone()[0]\n",
        "\n",
        "    cur.execute('''INSERT OR IGNORE INTO Album (title, artist_id) \n",
        "        VALUES ( ?, ? )''', ( album, artist_id ) )\n",
        "    cur.execute('SELECT id FROM Album WHERE title = ? ', (album, ))\n",
        "    album_id = cur.fetchone()[0]\n",
        "\n",
        "    cur.execute('''INSERT OR REPLACE INTO Track\n",
        "        (title, album_id, genre_id, len, rating, count) \n",
        "        VALUES ( ?, ?, ?, ?, ?, ? )''', \n",
        "        ( name, album_id, genre_id, length, rating, count ) )\n",
        "\n",
        "    conn.commit()\n"
      ],
      "metadata": {
        "id": "KH2RnoJLvfcI"
      },
      "execution_count": null,
      "outputs": []
    },
    {
      "cell_type": "markdown",
      "source": [
        "Another example (with many to many relationship) and using JSON instead of XML"
      ],
      "metadata": {
        "id": "8NfWvX1_v09L"
      }
    },
    {
      "cell_type": "code",
      "source": [
        "import json\n",
        "import sqlite3\n",
        "\n",
        "conn = sqlite3.connect('rosterdb2.sqlite')\n",
        "cur = conn.cursor()\n",
        "\n",
        "# Do some setup\n",
        "cur.executescript('''\n",
        "DROP TABLE IF EXISTS User;\n",
        "DROP TABLE IF EXISTS Member;\n",
        "DROP TABLE IF EXISTS Course;\n",
        "\n",
        "CREATE TABLE User (\n",
        "    id     INTEGER NOT NULL PRIMARY KEY AUTOINCREMENT UNIQUE,\n",
        "    name   TEXT UNIQUE\n",
        ");\n",
        "\n",
        "CREATE TABLE Course (\n",
        "    id     INTEGER NOT NULL PRIMARY KEY AUTOINCREMENT UNIQUE,\n",
        "    title  TEXT UNIQUE\n",
        ");\n",
        "\n",
        "CREATE TABLE Member (\n",
        "    user_id     INTEGER,\n",
        "    course_id   INTEGER,\n",
        "    role        INTEGER,\n",
        "    PRIMARY KEY (user_id, course_id)\n",
        ")\n",
        "''')\n",
        "\n",
        "fname = '/content/drive/MyDrive/Coursera/roster_data.json'\n",
        "if len(fname) < 1:\n",
        "    fname = 'roster_data_sample.json'\n",
        "\n",
        "# [\n",
        "#   [ \"Charley\", \"si110\", 1 ],\n",
        "#   [ \"Mea\", \"si110\", 0 ],\n",
        "\n",
        "str_data = open(fname).read()\n",
        "json_data = json.loads(str_data)\n",
        "\n",
        "for entry in json_data:\n",
        "\n",
        "    name = entry[0]\n",
        "    title = entry[1]\n",
        "    role = entry[2]\n",
        "\n",
        "    print((name, title, role))\n",
        "\n",
        "    cur.execute('''INSERT OR IGNORE INTO User (name)\n",
        "        VALUES ( ? )''', ( name, ) )\n",
        "    cur.execute('SELECT id FROM User WHERE name = ? ', (name, ))\n",
        "    user_id = cur.fetchone()[0]\n",
        "\n",
        "    cur.execute('''INSERT OR IGNORE INTO Course (title)\n",
        "        VALUES ( ? )''', ( title, ) )\n",
        "    cur.execute('SELECT id FROM Course WHERE title = ? ', (title, ))\n",
        "    course_id = cur.fetchone()[0]\n",
        "\n",
        "    cur.execute('''INSERT OR REPLACE INTO Member\n",
        "        (user_id, course_id, role) VALUES ( ?, ?, ? )''',\n",
        "        ( user_id, course_id, role ) )\n",
        "\n",
        "    conn.commit()\n"
      ],
      "metadata": {
        "id": "307zCze8v55P"
      },
      "execution_count": null,
      "outputs": []
    }
  ]
}