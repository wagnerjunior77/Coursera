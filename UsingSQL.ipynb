{
  "nbformat": 4,
  "nbformat_minor": 0,
  "metadata": {
    "colab": {
      "provenance": [],
      "mount_file_id": "1Z3HTcWu1BX26bGa2LZGs99z8H5wVTZPk",
      "authorship_tag": "ABX9TyMX3Vo94Gu6SwcuUFdEKLjT",
      "include_colab_link": true
    },
    "kernelspec": {
      "name": "python3",
      "display_name": "Python 3"
    },
    "language_info": {
      "name": "python"
    }
  },
  "cells": [
    {
      "cell_type": "markdown",
      "metadata": {
        "id": "view-in-github",
        "colab_type": "text"
      },
      "source": [
        "<a href=\"https://colab.research.google.com/github/wagnerjunior77/Coursera/blob/main/UsingSQL.ipynb\" target=\"_parent\"><img src=\"https://colab.research.google.com/assets/colab-badge.svg\" alt=\"Open In Colab\"/></a>"
      ]
    },
    {
      "cell_type": "code",
      "source": [
        "from google.colab import drive\n",
        "drive.mount('/content/drive')"
      ],
      "metadata": {
        "colab": {
          "base_uri": "https://localhost:8080/"
        },
        "id": "sV77bkpuZIfd",
        "outputId": "b4bbb3bb-6f45-47c2-8726-050999fb4ec4"
      },
      "execution_count": null,
      "outputs": [
        {
          "output_type": "stream",
          "name": "stdout",
          "text": [
            "Drive already mounted at /content/drive; to attempt to forcibly remount, call drive.mount(\"/content/drive\", force_remount=True).\n"
          ]
        }
      ]
    },
    {
      "cell_type": "markdown",
      "source": [
        "Python Oriented Object"
      ],
      "metadata": {
        "id": "BgmQicPh7Ics"
      }
    },
    {
      "cell_type": "code",
      "execution_count": null,
      "metadata": {
        "id": "rF2EsEXw7Ft1"
      },
      "outputs": [],
      "source": [
        "class Dog:\n",
        "\n",
        "  patas = 4\n",
        "  var_nome = ''\n",
        "\n",
        "  def __init__(self, nome):\n",
        "     var_nome = nome\n",
        "     print(f'{var_nome} Constructed')\n",
        "\n",
        "  def Carac (self, peso, raca, idade):\n",
        "    peso = peso\n",
        "    raca = raca\n",
        "    idade = idade\n",
        "    print(f\"Peso: {peso}, Raça: {raca}, Idade: {idade}\")\n",
        "\n",
        "s = Dog(\"Lester\")\n",
        "\n",
        "s.Carac(17, \"Hotvalley\", 10)"
      ]
    },
    {
      "cell_type": "markdown",
      "source": [
        "Getting all organization email domain present in a file and parse to database using SQL"
      ],
      "metadata": {
        "id": "J7U9D7GljfEG"
      }
    },
    {
      "cell_type": "code",
      "source": [
        "import sqlite3\n",
        "\n",
        "conn = sqlite3.connect('emaildb.sqlite')\n",
        "cur = conn.cursor()\n",
        "\n",
        "cur.execute('DROP TABLE IF EXISTS Counts')\n",
        "\n",
        "cur.execute('''\n",
        "CREATE TABLE Counts (org TEXT, count INTEGER)''')\n",
        "\n",
        "fname = \"/content/drive/MyDrive/Coursera/mbox.txt\"\n",
        "\n",
        "fh = open(fname)\n",
        "for line in fh:\n",
        "    if not line.startswith('From: '): continue\n",
        "    pieces = line.split()\n",
        "    email = pieces[1]\n",
        "    parts = email.split(\"@\")\n",
        "    org = parts[1]\n",
        "    cur.execute('SELECT count FROM Counts WHERE org = ? ', (org,))\n",
        "    row = cur.fetchone()\n",
        "    if row is None:\n",
        "        cur.execute('''INSERT INTO Counts (org, count)\n",
        "                VALUES (?, 1)''', (org,))\n",
        "    else:\n",
        "        cur.execute('UPDATE Counts SET count = count + 1 WHERE org = ?',\n",
        "                    (org,))\n",
        "    conn.commit()\n",
        "\n",
        "# https://www.sqlite.org/lang_select.html\n",
        "sqlstr = 'SELECT org, count FROM Counts ORDER BY count DESC LIMIT 10'\n",
        "\n",
        "for row in cur.execute(sqlstr):\n",
        "    print(str(row[0]), row[1])\n",
        "\n",
        "cur.close()"
      ],
      "metadata": {
        "id": "qt9sca6SYByN"
      },
      "execution_count": null,
      "outputs": []
    },
    {
      "cell_type": "markdown",
      "source": [
        "Getting tracks data from iTunes XML"
      ],
      "metadata": {
        "id": "aobvMQ8Evb0R"
      }
    },
    {
      "cell_type": "code",
      "source": [
        "import xml.etree.ElementTree as ET\n",
        "import sqlite3\n",
        "\n",
        "conn = sqlite3.connect('trackdb.sqlite')\n",
        "cur = conn.cursor()\n",
        "\n",
        "# Make some fresh tables using executescript()\n",
        "cur.executescript('''\n",
        "DROP TABLE IF EXISTS Artist;\n",
        "DROP TABLE IF EXISTS Album;\n",
        "DROP TABLE IF EXISTS Track;\n",
        "DROP TABLE IF EXISTS Genre;\n",
        "\n",
        "CREATE TABLE Artist (\n",
        "    id  INTEGER NOT NULL PRIMARY KEY AUTOINCREMENT UNIQUE,\n",
        "    name    TEXT UNIQUE\n",
        ");\n",
        "\n",
        "CREATE TABLE Genre (\n",
        "    id  INTEGER NOT NULL PRIMARY KEY AUTOINCREMENT UNIQUE,\n",
        "    name    TEXT UNIQUE\n",
        ");\n",
        "\n",
        "CREATE TABLE Album (\n",
        "    id  INTEGER NOT NULL PRIMARY KEY AUTOINCREMENT UNIQUE,\n",
        "    artist_id  INTEGER,\n",
        "    title   TEXT UNIQUE\n",
        ");\n",
        "\n",
        "CREATE TABLE Track (\n",
        "    id  INTEGER NOT NULL PRIMARY KEY \n",
        "        AUTOINCREMENT UNIQUE,\n",
        "    title TEXT  UNIQUE,\n",
        "    album_id  INTEGER,\n",
        "    genre_id  INTEGER,\n",
        "    len INTEGER, rating INTEGER, count INTEGER\n",
        ");\n",
        "''')\n",
        "\n",
        "\n",
        "fname = \"/content/drive/MyDrive/Coursera/Library.xml\"\n",
        "\n",
        "\n",
        "# <key>Track ID</key><integer>369</integer>\n",
        "# <key>Name</key><string>Another One Bites The Dust</string>\n",
        "# <key>Artist</key><string>Queen</string>\n",
        "def lookup(d, key):\n",
        "    found = False\n",
        "    for child in d:\n",
        "        if found : return child.text\n",
        "        if child.tag == 'key' and child.text == key :\n",
        "            found = True\n",
        "    return None\n",
        "\n",
        "stuff = ET.parse(fname)\n",
        "all = stuff.findall('dict/dict/dict')\n",
        "print('Dict count:', len(all))\n",
        "for entry in all:\n",
        "    if ( lookup(entry, 'Track ID') is None ) : continue\n",
        "\n",
        "    name = lookup(entry, 'Name')\n",
        "    artist = lookup(entry, 'Artist')\n",
        "    genre = lookup(entry, 'Genre')\n",
        "    album = lookup(entry, 'Album')\n",
        "    count = lookup(entry, 'Play Count')\n",
        "    rating = lookup(entry, 'Rating')\n",
        "    length = lookup(entry, 'Total Time')\n",
        "\n",
        "    if name is None or artist is None or album is None or genre is None : \n",
        "        continue\n",
        "\n",
        "    print(name, artist, album, genre, count, rating, length)\n",
        "\n",
        "    cur.execute('''INSERT OR IGNORE INTO Artist (name) \n",
        "        VALUES ( ? )''', ( artist, ) )\n",
        "    cur.execute('SELECT id FROM Artist WHERE name = ? ', (artist, ))\n",
        "    artist_id = cur.fetchone()[0]\n",
        "\n",
        "    cur.execute('''INSERT OR IGNORE INTO Genre (name) \n",
        "        VALUES ( ? )''', ( genre, ) )\n",
        "    cur.execute('SELECT id FROM Genre WHERE name = ? ', (genre, ))\n",
        "    genre_id = cur.fetchone()[0]\n",
        "\n",
        "    cur.execute('''INSERT OR IGNORE INTO Album (title, artist_id) \n",
        "        VALUES ( ?, ? )''', ( album, artist_id ) )\n",
        "    cur.execute('SELECT id FROM Album WHERE title = ? ', (album, ))\n",
        "    album_id = cur.fetchone()[0]\n",
        "\n",
        "    cur.execute('''INSERT OR REPLACE INTO Track\n",
        "        (title, album_id, genre_id, len, rating, count) \n",
        "        VALUES ( ?, ?, ?, ?, ?, ? )''', \n",
        "        ( name, album_id, genre_id, length, rating, count ) )\n",
        "\n",
        "    conn.commit()\n"
      ],
      "metadata": {
        "id": "KH2RnoJLvfcI"
      },
      "execution_count": null,
      "outputs": []
    }
  ]
}