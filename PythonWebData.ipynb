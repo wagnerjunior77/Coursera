{
  "nbformat": 4,
  "nbformat_minor": 0,
  "metadata": {
    "colab": {
      "provenance": [],
      "private_outputs": true,
      "collapsed_sections": [],
      "mount_file_id": "1T1glufi0N8f1D8d4c9MXlkMJSStK0lHY",
      "authorship_tag": "ABX9TyP4r6fWlYuiyVSFWuBeMF08",
      "include_colab_link": true
    },
    "kernelspec": {
      "name": "python3",
      "display_name": "Python 3"
    },
    "language_info": {
      "name": "python"
    },
    "accelerator": "GPU"
  },
  "cells": [
    {
      "cell_type": "markdown",
      "metadata": {
        "id": "view-in-github",
        "colab_type": "text"
      },
      "source": [
        "<a href=\"https://colab.research.google.com/github/wagnerjunior77/Coursera/blob/main/PythonWebData.ipynb\" target=\"_parent\"><img src=\"https://colab.research.google.com/assets/colab-badge.svg\" alt=\"Open In Colab\"/></a>"
      ]
    },
    {
      "cell_type": "code",
      "execution_count": null,
      "metadata": {
        "id": "ae5I2KngK_iT"
      },
      "outputs": [],
      "source": [
        "import re\n",
        "\n",
        "data = \"test string 12 test string 5 test 20\"\n",
        "\n",
        "print(re.findall('[0-9]+', data))\n",
        "print(re.findall('t([^g]*)', data))"
      ]
    },
    {
      "cell_type": "markdown",
      "source": [
        "Extracting Data With Regular Expressions  (Get the sum of the numbers on the file)"
      ],
      "metadata": {
        "id": "PEZCdyyLCnyn"
      }
    },
    {
      "cell_type": "code",
      "source": [
        "import re\n",
        "\n",
        "open_data = open('/content/drive/MyDrive/Coursera/actual-data.txt')\n",
        "\n",
        "data = open_data.readlines()\n",
        "\n",
        "lista = list()\n",
        "\n",
        "for lines in data:\n",
        "  lines = lines.strip()\n",
        "  lines2 = re.findall('[0-9]+',lines)\n",
        "  \n",
        "  if len(lines2) > 0:\n",
        "    numbers = re.findall('[0-9]+',lines)\n",
        "    lista.append(numbers)\n",
        "\n",
        "sum_numbers = list()\n",
        "\n",
        "for x in lista:\n",
        "  test_list = list(map(int, x))\n",
        "  sum_numbers.append(sum(test_list))\n",
        "print(sum(sum_numbers))"
      ],
      "metadata": {
        "id": "vBYx5rW-CuUZ"
      },
      "execution_count": null,
      "outputs": []
    },
    {
      "cell_type": "markdown",
      "source": [
        "Getting data from web page"
      ],
      "metadata": {
        "id": "DQS-qIIUnU6T"
      }
    },
    {
      "cell_type": "code",
      "source": [
        "import urllib\n",
        "\n",
        "fhand = urllib.request.urlopen('http://data.pr4e.org/romeo.txt')\n",
        "for line in fhand:\n",
        "  print(line.decode().strip())"
      ],
      "metadata": {
        "id": "vVjFrbdjnWPP"
      },
      "execution_count": null,
      "outputs": []
    },
    {
      "cell_type": "markdown",
      "source": [
        "Trying to use *BeautifulSoup*"
      ],
      "metadata": {
        "id": "NDw7J3d17M91"
      }
    },
    {
      "cell_type": "code",
      "source": [
        "#getting all links on a webpage\n",
        "\n",
        "from bs4 import BeautifulSoup\n",
        "import urllib\n",
        "\n",
        "url = input(\"Website - \")\n",
        "html = urllib.request.urlopen(url).read()\n",
        "soup = BeautifulSoup(html, 'html.parser')\n",
        "\n",
        "# retrieve all of the anchor tags\n",
        "tags = soup('a')\n",
        "for tag in tags:\n",
        "  \n",
        "  print(tag.get('href', None))\n",
        "\n"
      ],
      "metadata": {
        "id": "lJosTr407Pln"
      },
      "execution_count": null,
      "outputs": []
    },
    {
      "cell_type": "code",
      "source": [
        "import urllib\n",
        "\n",
        "x = urllib.request.urlopen('http://data.pr4e.org/romeo.txt')\n",
        "print(x)"
      ],
      "metadata": {
        "id": "lRFZdhRqRVQZ"
      },
      "execution_count": null,
      "outputs": []
    },
    {
      "cell_type": "markdown",
      "source": [
        "Exercise - Scraping HTML Data with BeautifulSoup"
      ],
      "metadata": {
        "id": "hRqWWAFBNe2z"
      }
    },
    {
      "cell_type": "code",
      "source": [
        "from urllib.request import urlopen\n",
        "from bs4 import BeautifulSoup\n",
        "import ssl\n",
        "\n",
        "# Ignore SSL certificate errors\n",
        "ctx = ssl.create_default_context()\n",
        "ctx.check_hostname = False\n",
        "ctx.verify_mode = ssl.CERT_NONE\n",
        "\n",
        "url = input('Enter - ')\n",
        "html = urlopen(url, context=ctx).read()\n",
        "soup = BeautifulSoup(html, \"html.parser\")\n",
        "lista = list()\n",
        "\n",
        "# Retrieve all of the anchor tags\n",
        "tags = soup('span')\n",
        "for tag in tags:\n",
        "    # Look at the parts of a tag\n",
        "    \n",
        "    \n",
        "    lista.append(int(tag.contents[0]))\n",
        "print(sum(lista))\n",
        "    "
      ],
      "metadata": {
        "id": "ojvgSvHNNgIg"
      },
      "execution_count": null,
      "outputs": []
    },
    {
      "cell_type": "markdown",
      "source": [
        "Exercise - Following Links in HTML Using BeautifulSoup"
      ],
      "metadata": {
        "id": "0Di3MJoJqTgq"
      }
    },
    {
      "cell_type": "code",
      "source": [
        "url =  input(\"Link: \")\n",
        "count = int(input(\"Put the number os repetitions: \"))\n",
        "pos = int(input(\"Put the position: \"))\n",
        "urllist = []\n",
        "taglist = []\n",
        "\n",
        "connections = 0 \n",
        "while connections < count :\n",
        "    taglist = []\n",
        "    print('Retrieving: ', url)\n",
        "    html = urllib.request.urlopen(url).read()\n",
        "    soup = BeautifulSoup(html, 'html.parser')\n",
        "    tags = soup('a')\n",
        "\n",
        "    for i in range(count):\n",
        "        for tag in tags:\n",
        "            taglist.append(tag)\n",
        "\n",
        "    url = taglist[pos-1].get('href', None)\n",
        "    urllist.append(url)\n",
        "\n",
        "    connections = connections + 1  \n",
        "print (\"last url:\", url)"
      ],
      "metadata": {
        "id": "MEsMgrSjneft"
      },
      "execution_count": null,
      "outputs": []
    },
    {
      "cell_type": "markdown",
      "source": [
        "Getting data from XML "
      ],
      "metadata": {
        "id": "A8s9j2sMSuXV"
      }
    },
    {
      "cell_type": "code",
      "source": [
        "import xml.etree.ElementTree as ET\n",
        "\n",
        "data = ''' <person> \n",
        "  <name>Chuck</name>\n",
        "  <phone type=\"intl\">\n",
        "  +1 734 303 4456\n",
        "  </phone>\n",
        "  <email hide=\"yes\"/>\n",
        "</person>'''\n",
        "\n",
        "tree = ET.fromstring(data)\n",
        "print('Name:', tree.find('name').text)\n",
        "print('Attr: ', tree.find('email').get('hide'))"
      ],
      "metadata": {
        "id": "WrLe-nJ_ORvD"
      },
      "execution_count": null,
      "outputs": []
    },
    {
      "cell_type": "markdown",
      "source": [
        "Exercise - Getting the sum of the numbers in the tags count in the URL\n"
      ],
      "metadata": {
        "id": "HXd5IY8NlZrE"
      }
    },
    {
      "cell_type": "code",
      "source": [
        "import urllib.request, urllib.parse, urllib.error\n",
        "import xml.etree.ElementTree as ET\n",
        "import ssl\n",
        "\n",
        "# Ignore SSL certificate errors\n",
        "# example URL : http://py4e-data.dr-chuck.net/comments_1648717.xml\n",
        "\n",
        "ctx = ssl.create_default_context()\n",
        "ctx.check_hostname = False\n",
        "ctx.verify_mode = ssl.CERT_NONE\n",
        "\n",
        "url = input('URL: ')\n",
        "xml = urllib.request.urlopen(url).read()\n",
        "numbers = []\n",
        "\n",
        "stuff = ET.fromstring(xml)\n",
        "lst = stuff.findall('.//count')\n",
        "print('User count: ', len(lst))\n",
        "\n",
        "for item in lst:\n",
        "  numbers.append(int(item.text))\n",
        "print(sum(numbers))\n",
        "\n",
        "\n"
      ],
      "metadata": {
        "id": "bmf_4yYsVh0V"
      },
      "execution_count": null,
      "outputs": []
    }
  ]
}