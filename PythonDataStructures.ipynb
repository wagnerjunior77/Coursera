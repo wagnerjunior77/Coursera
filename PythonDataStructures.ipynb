{
  "nbformat": 4,
  "nbformat_minor": 0,
  "metadata": {
    "colab": {
      "provenance": [],
      "collapsed_sections": [],
      "mount_file_id": "18woPccks3xoHPYYt3uH2kZgXLnjviY7j",
      "authorship_tag": "ABX9TyOPn6Y58SnmUAHQKCSaQMXy",
      "include_colab_link": true
    },
    "kernelspec": {
      "name": "python3",
      "display_name": "Python 3"
    },
    "language_info": {
      "name": "python"
    }
  },
  "cells": [
    {
      "cell_type": "markdown",
      "metadata": {
        "id": "view-in-github",
        "colab_type": "text"
      },
      "source": [
        "<a href=\"https://colab.research.google.com/github/wagnerjunior77/Coursera/blob/main/PythonDataStructures.ipynb\" target=\"_parent\"><img src=\"https://colab.research.google.com/assets/colab-badge.svg\" alt=\"Open In Colab\"/></a>"
      ]
    },
    {
      "cell_type": "code",
      "execution_count": null,
      "metadata": {
        "colab": {
          "base_uri": "https://localhost:8080/"
        },
        "id": "NZJTULtppeDZ",
        "outputId": "9bd02d8e-ee22-457e-d18e-d1a7c613fca1"
      },
      "outputs": [
        {
          "output_type": "stream",
          "name": "stdout",
          "text": [
            "From mar\n"
          ]
        }
      ],
      "source": [
        "x = 'From marquard@uct.ac.za'\n",
        "\n",
        "print(x[0:8])"
      ]
    },
    {
      "cell_type": "code",
      "source": [
        "#Assignment 6.5\n",
        "\n",
        "text = \"X-DSPAM-Confidence:    0.8475\"\n",
        "\n",
        "text2 = text.find('0')\n",
        "\n",
        "text3 = text[text2:]\n",
        "\n",
        "print(float(text3))"
      ],
      "metadata": {
        "colab": {
          "base_uri": "https://localhost:8080/"
        },
        "id": "HIq0-dfYrbwR",
        "outputId": "45453cb0-c88a-4c2d-cb1b-119e8940237a"
      },
      "execution_count": null,
      "outputs": [
        {
          "output_type": "stream",
          "name": "stdout",
          "text": [
            "0.8475\n"
          ]
        }
      ]
    },
    {
      "cell_type": "markdown",
      "source": [
        "**Week 3 - Assignment** 7.1 - Reading data"
      ],
      "metadata": {
        "id": "sfdw995dDTNG"
      }
    },
    {
      "cell_type": "code",
      "source": [
        "# Use words.txt as the file name\n",
        "\n",
        "\n",
        "fh = open('/content/drive/MyDrive/Coursera/words.txt')\n",
        "fread = fh.read().upper().rstrip()\n",
        "print(fread)"
      ],
      "metadata": {
        "id": "2Y6_Ua3zCEQk"
      },
      "execution_count": null,
      "outputs": []
    },
    {
      "cell_type": "markdown",
      "source": [
        "Week 3 - Assignment 7.2 - Getting the average from sample data"
      ],
      "metadata": {
        "id": "RauCTXSFDlTM"
      }
    },
    {
      "cell_type": "code",
      "source": [
        "# Use the file name mbox-short.txt as the file name\n",
        "#fname = input(\"Enter file name: \")\n",
        "fh = open('/content/drive/MyDrive/Coursera/mbox-short.txt')\n",
        "fread = fh.readlines()\n",
        "#print(fread)\n",
        "numbers = list()\n",
        "count = 0\n",
        "for line in fread:\n",
        "    \n",
        "    line = line.rstrip()\n",
        "    if not line.startswith('X-DSPAM-Confidence:'):\n",
        "        \n",
        "        continue\n",
        "    count += 1\n",
        "    line = line[20:]\n",
        "    line = float(line)\n",
        "    \n",
        "    \n",
        "   \n",
        "    numbers.append(line)\n",
        "    \n",
        "    #print(numbers)\n",
        "#print(numbers)\n",
        "#print(count)\n",
        "\n",
        "total = 0\n",
        "# iterate over the list\n",
        "for num in numbers:\n",
        "    # add current list element to the sum\n",
        "    total = total + num\n",
        "\n",
        "\n",
        "avg = total / count\n",
        "\n",
        "print(f'Average spam confidence: {avg}')\n"
      ],
      "metadata": {
        "colab": {
          "base_uri": "https://localhost:8080/"
        },
        "id": "XMzxU_WrDm1Y",
        "outputId": "3e9b53c4-79cb-499b-c33d-4dea19e977d8"
      },
      "execution_count": null,
      "outputs": [
        {
          "output_type": "stream",
          "name": "stdout",
          "text": [
            "Average spam confidence: 0.7507185185185187\n"
          ]
        }
      ]
    },
    {
      "cell_type": "code",
      "source": [],
      "metadata": {
        "id": "e2qThMt1Bmst"
      },
      "execution_count": null,
      "outputs": []
    },
    {
      "cell_type": "markdown",
      "source": [
        "Week 4 - Assignment 8.4 - Making sort in lists"
      ],
      "metadata": {
        "id": "o72sgskGB6QS"
      }
    },
    {
      "cell_type": "code",
      "source": [
        "\n",
        "\n",
        "open_data = open('/content/drive/MyDrive/Coursera/romeo.txt')\n",
        "\n",
        "words = []\n",
        "\n",
        "data = open_data.readlines()\n",
        "\n",
        "for lista in data:\n",
        "  slices = lista.split()\n",
        "  for lista2 in slices:\n",
        "    if lista2 not in words:\n",
        "      lista2.rstrip()\n",
        "      slices2 = words.append(lista2)\n",
        "    \n",
        "words.sort()\n",
        "print(words)\n",
        "\n",
        "\n",
        "\n",
        "\n"
      ],
      "metadata": {
        "colab": {
          "base_uri": "https://localhost:8080/"
        },
        "id": "rOXy_TzZBpK9",
        "outputId": "1da60bf0-3f8b-440d-bbd7-f884ef3cde06"
      },
      "execution_count": 1,
      "outputs": [
        {
          "output_type": "stream",
          "name": "stdout",
          "text": [
            "['Arise', 'But', 'It', 'Juliet', 'Who', 'already', 'and', 'breaks', 'east', 'envious', 'fair', 'grief', 'is', 'kill', 'light', 'moon', 'pale', 'sick', 'soft', 'sun', 'the', 'through', 'what', 'window', 'with', 'yonder']\n"
          ]
        }
      ]
    },
    {
      "cell_type": "markdown",
      "source": [
        "Week 4 - Assignment 8.5 - Slicing data"
      ],
      "metadata": {
        "id": "ca4ZDPGfQY0H"
      }
    },
    {
      "cell_type": "code",
      "source": [
        "open_data = open('/content/drive/MyDrive/Coursera/mbox-short.txt')\n",
        "\n",
        "data = open_data.readlines()\n",
        "\n",
        "emails = []\n",
        "emails2 = []\n",
        "\n",
        "for lines in data:\n",
        "  if 'From:' not in lines:\n",
        "    continue\n",
        "  lines.split()\n",
        "  lines.rstrip()\n",
        "  emails.append(lines)\n",
        "\n",
        "\n",
        "for lines in emails:\n",
        "  emails2.append(lines[6:])\n",
        "\n",
        "for lines in emails2:\n",
        "  \n",
        "  print(lines.strip())\n",
        "\n",
        "print(f'There were {len(emails2)} lines in the file with From as the first word')\n",
        "  \n",
        "  "
      ],
      "metadata": {
        "id": "Xcq8UEI8QbCc"
      },
      "execution_count": null,
      "outputs": []
    },
    {
      "cell_type": "markdown",
      "source": [
        "Week 5 -  Assignment 9.4 - Data Counting"
      ],
      "metadata": {
        "id": "YfJjM4G6HUXX"
      }
    },
    {
      "cell_type": "code",
      "source": [
        "open_data = open('/content/drive/MyDrive/Coursera/mbox-short.txt')\n",
        "\n",
        "data = open_data.readlines()\n",
        "\n",
        "emails = []\n",
        "emails2 = []\n",
        "counts = dict()\n",
        "\n",
        "for lines in data:\n",
        "  if 'From:' not in lines:\n",
        "    continue\n",
        "  lines.split()\n",
        "  lines.rstrip()\n",
        "  emails.append(lines)\n",
        "\n",
        "\n",
        "for lines in emails:\n",
        "  emails2.append(lines[6:])\n",
        "  words = lines[6:].split()\n",
        "  for word in words:\n",
        "    counts[word] = counts.get(word,0) + 1\n",
        "\n",
        "print(f'{max(counts, key=counts.get)} {counts[max(counts, key=counts.get)]}')\n",
        "\n",
        "\n"
      ],
      "metadata": {
        "id": "FakfIqjFHWW6",
        "colab": {
          "base_uri": "https://localhost:8080/"
        },
        "outputId": "8a6b9c2e-ee75-4e66-f45e-9486bc86842b"
      },
      "execution_count": 2,
      "outputs": [
        {
          "output_type": "stream",
          "name": "stdout",
          "text": [
            "cwen@iupui.edu 5\n"
          ]
        }
      ]
    },
    {
      "cell_type": "markdown",
      "source": [
        "Week 6 - Assignment 10.2 - More data counting (using the value and key of dict)"
      ],
      "metadata": {
        "id": "49D5UhzNkQa-"
      }
    },
    {
      "cell_type": "code",
      "source": [
        "open_data = open('/content/drive/MyDrive/Coursera/mbox-short.txt')\n",
        "\n",
        "data = open_data.readlines()\n",
        "\n",
        "emails = []\n",
        "\n",
        "counts = dict()\n",
        "\n",
        "for lines in data:\n",
        "  if 'From' not in lines or 'From:' in lines:\n",
        "    continue\n",
        "  lines.split()\n",
        "  lines.rstrip()\n",
        "  \n",
        "  emails.append(lines)\n",
        "  \n",
        "for lines in emails:\n",
        "  \n",
        "  \n",
        "  words = lines.split()\n",
        "  hours = []\n",
        "  hours.append(words[5][0:2])\n",
        "  \n",
        "  for word in hours:\n",
        "    \n",
        "    counts[word] = counts.get(word,0) + 1\n",
        "    hours_sequence = counts.items()\n",
        "    \n",
        "for k,v in sorted(counts.items()):\n",
        "  print(k,v) \n",
        "\n",
        "    \n",
        "\n"
      ],
      "metadata": {
        "colab": {
          "base_uri": "https://localhost:8080/"
        },
        "id": "Y_hksZddkS0G",
        "outputId": "9798e329-9022-4034-de56-7c9b47e376bb"
      },
      "execution_count": null,
      "outputs": [
        {
          "output_type": "stream",
          "name": "stdout",
          "text": [
            "04 3\n",
            "06 1\n",
            "07 1\n",
            "09 2\n",
            "10 3\n",
            "11 6\n",
            "14 1\n",
            "15 2\n",
            "16 4\n",
            "17 2\n",
            "18 1\n",
            "19 1\n"
          ]
        }
      ]
    }
  ]
}